{
  "cells": [
    {
      "cell_type": "markdown",
      "metadata": {
        "id": "gsRnOVja0pCC"
      },
      "source": [
        "# **GRUPO 1** - Trabajo Práctico Nuestras Caras"
      ]
    },
    {
      "cell_type": "markdown",
      "metadata": {
        "id": "RZ5Y5orK00ro"
      },
      "source": [
        "## **Preparar el entorno en Google Colab**"
      ]
    },
    {
      "cell_type": "code",
      "execution_count": 1,
      "metadata": {
        "colab": {
          "base_uri": "https://localhost:8080/"
        },
        "id": "6Lf5JNBq7BeC",
        "outputId": "6ac1dcd7-361d-4972-ff70-f0631f1d6075"
      },
      "outputs": [
        {
          "ename": "ModuleNotFoundError",
          "evalue": "No module named 'google'",
          "output_type": "error",
          "traceback": [
            "\u001b[31m---------------------------------------------------------------------------\u001b[39m",
            "\u001b[31mModuleNotFoundError\u001b[39m                       Traceback (most recent call last)",
            "\u001b[36mCell\u001b[39m\u001b[36m \u001b[39m\u001b[32mIn[1]\u001b[39m\u001b[32m, line 2\u001b[39m\n\u001b[32m      1\u001b[39m \u001b[38;5;66;03m# conexion al Google Drive\u001b[39;00m\n\u001b[32m----> \u001b[39m\u001b[32m2\u001b[39m \u001b[38;5;28;01mfrom\u001b[39;00m\u001b[38;5;250m \u001b[39m\u001b[34;01mgoogle\u001b[39;00m\u001b[34;01m.\u001b[39;00m\u001b[34;01mcolab\u001b[39;00m\u001b[38;5;250m \u001b[39m\u001b[38;5;28;01mimport\u001b[39;00m drive\n\u001b[32m      3\u001b[39m drive.mount(\u001b[33m'\u001b[39m\u001b[33m/content/drive\u001b[39m\u001b[33m'\u001b[39m)\n",
            "\u001b[31mModuleNotFoundError\u001b[39m: No module named 'google'"
          ]
        }
      ],
      "source": [
        "# conexion al Google Drive\n",
        "from google.colab import drive\n",
        "drive.mount('/content/drive')"
      ]
    },
    {
      "cell_type": "markdown",
      "metadata": {
        "id": "E7djKH8xNN6C"
      },
      "source": [
        "## **Cargar las librerias que vamos a utilizar**"
      ]
    },
    {
      "cell_type": "code",
      "execution_count": 2,
      "metadata": {
        "colab": {
          "base_uri": "https://localhost:8080/"
        },
        "id": "dvz7fKalQ5dy",
        "outputId": "e83dc899-e9f6-47d5-945d-c6dbf63ca330"
      },
      "outputs": [
        {
          "name": "stdout",
          "output_type": "stream",
          "text": [
            "Collecting itables\n",
            "  Downloading itables-2.3.0-py3-none-any.whl.metadata (8.6 kB)\n",
            "Requirement already satisfied: ipython in c:\\users\\guadalupe\\appdata\\roaming\\python\\python313\\site-packages (from itables) (9.2.0)\n",
            "Collecting numpy (from itables)\n",
            "  Downloading numpy-2.2.5-cp313-cp313-win_amd64.whl.metadata (60 kB)\n",
            "Collecting pandas (from itables)\n",
            "  Downloading pandas-2.2.3-cp313-cp313-win_amd64.whl.metadata (19 kB)\n",
            "Requirement already satisfied: colorama in c:\\users\\guadalupe\\appdata\\roaming\\python\\python313\\site-packages (from ipython->itables) (0.4.6)\n",
            "Requirement already satisfied: decorator in c:\\users\\guadalupe\\appdata\\roaming\\python\\python313\\site-packages (from ipython->itables) (5.2.1)\n",
            "Requirement already satisfied: ipython-pygments-lexers in c:\\users\\guadalupe\\appdata\\roaming\\python\\python313\\site-packages (from ipython->itables) (1.1.1)\n",
            "Requirement already satisfied: jedi>=0.16 in c:\\users\\guadalupe\\appdata\\roaming\\python\\python313\\site-packages (from ipython->itables) (0.19.2)\n",
            "Requirement already satisfied: matplotlib-inline in c:\\users\\guadalupe\\appdata\\roaming\\python\\python313\\site-packages (from ipython->itables) (0.1.7)\n",
            "Requirement already satisfied: prompt_toolkit<3.1.0,>=3.0.41 in c:\\users\\guadalupe\\appdata\\roaming\\python\\python313\\site-packages (from ipython->itables) (3.0.51)\n",
            "Requirement already satisfied: pygments>=2.4.0 in c:\\users\\guadalupe\\appdata\\roaming\\python\\python313\\site-packages (from ipython->itables) (2.19.1)\n",
            "Requirement already satisfied: stack_data in c:\\users\\guadalupe\\appdata\\roaming\\python\\python313\\site-packages (from ipython->itables) (0.6.3)\n",
            "Requirement already satisfied: traitlets>=5.13.0 in c:\\users\\guadalupe\\appdata\\roaming\\python\\python313\\site-packages (from ipython->itables) (5.14.3)\n",
            "Requirement already satisfied: python-dateutil>=2.8.2 in c:\\users\\guadalupe\\appdata\\roaming\\python\\python313\\site-packages (from pandas->itables) (2.9.0.post0)\n",
            "Collecting pytz>=2020.1 (from pandas->itables)\n",
            "  Downloading pytz-2025.2-py2.py3-none-any.whl.metadata (22 kB)\n",
            "Collecting tzdata>=2022.7 (from pandas->itables)\n",
            "  Downloading tzdata-2025.2-py2.py3-none-any.whl.metadata (1.4 kB)\n",
            "Requirement already satisfied: parso<0.9.0,>=0.8.4 in c:\\users\\guadalupe\\appdata\\roaming\\python\\python313\\site-packages (from jedi>=0.16->ipython->itables) (0.8.4)\n",
            "Requirement already satisfied: wcwidth in c:\\users\\guadalupe\\appdata\\roaming\\python\\python313\\site-packages (from prompt_toolkit<3.1.0,>=3.0.41->ipython->itables) (0.2.13)\n",
            "Requirement already satisfied: six>=1.5 in c:\\users\\guadalupe\\appdata\\roaming\\python\\python313\\site-packages (from python-dateutil>=2.8.2->pandas->itables) (1.17.0)\n",
            "Requirement already satisfied: executing>=1.2.0 in c:\\users\\guadalupe\\appdata\\roaming\\python\\python313\\site-packages (from stack_data->ipython->itables) (2.2.0)\n",
            "Requirement already satisfied: asttokens>=2.1.0 in c:\\users\\guadalupe\\appdata\\roaming\\python\\python313\\site-packages (from stack_data->ipython->itables) (3.0.0)\n",
            "Requirement already satisfied: pure-eval in c:\\users\\guadalupe\\appdata\\roaming\\python\\python313\\site-packages (from stack_data->ipython->itables) (0.2.3)\n",
            "Downloading itables-2.3.0-py3-none-any.whl (2.3 MB)\n",
            "   ---------------------------------------- 0.0/2.3 MB ? eta -:--:--\n",
            "   ------------------ --------------------- 1.0/2.3 MB 7.1 MB/s eta 0:00:01\n",
            "   ---------------------------------------- 2.3/2.3 MB 6.3 MB/s eta 0:00:00\n",
            "Downloading numpy-2.2.5-cp313-cp313-win_amd64.whl (12.6 MB)\n",
            "   ---------------------------------------- 0.0/12.6 MB ? eta -:--:--\n",
            "   ---- ----------------------------------- 1.3/12.6 MB 6.8 MB/s eta 0:00:02\n",
            "   --------- ------------------------------ 2.9/12.6 MB 7.0 MB/s eta 0:00:02\n",
            "   -------------- ------------------------- 4.5/12.6 MB 7.2 MB/s eta 0:00:02\n",
            "   ------------------ --------------------- 5.8/12.6 MB 7.1 MB/s eta 0:00:01\n",
            "   ----------------------- ---------------- 7.3/12.6 MB 7.1 MB/s eta 0:00:01\n",
            "   ---------------------------- ----------- 8.9/12.6 MB 7.2 MB/s eta 0:00:01\n",
            "   -------------------------------- ------- 10.2/12.6 MB 7.2 MB/s eta 0:00:01\n",
            "   ------------------------------------- -- 11.8/12.6 MB 7.2 MB/s eta 0:00:01\n",
            "   ---------------------------------------- 12.6/12.6 MB 7.0 MB/s eta 0:00:00\n",
            "Downloading pandas-2.2.3-cp313-cp313-win_amd64.whl (11.5 MB)\n",
            "   ---------------------------------------- 0.0/11.5 MB ? eta -:--:--\n",
            "   ----- ---------------------------------- 1.6/11.5 MB 7.2 MB/s eta 0:00:02\n",
            "   ---------- ----------------------------- 3.1/11.5 MB 7.4 MB/s eta 0:00:02\n",
            "   ---------------- ----------------------- 4.7/11.5 MB 7.4 MB/s eta 0:00:01\n",
            "   --------------------- ------------------ 6.3/11.5 MB 7.4 MB/s eta 0:00:01\n",
            "   --------------------------- ------------ 7.9/11.5 MB 7.5 MB/s eta 0:00:01\n",
            "   ------------------------------- -------- 9.2/11.5 MB 7.5 MB/s eta 0:00:01\n",
            "   -------------------------------------- - 11.0/11.5 MB 7.5 MB/s eta 0:00:01\n",
            "   ---------------------------------------- 11.5/11.5 MB 7.2 MB/s eta 0:00:00\n",
            "Downloading pytz-2025.2-py2.py3-none-any.whl (509 kB)\n",
            "Downloading tzdata-2025.2-py2.py3-none-any.whl (347 kB)\n",
            "Installing collected packages: pytz, tzdata, numpy, pandas, itables\n",
            "Successfully installed itables-2.3.0 numpy-2.2.5 pandas-2.2.3 pytz-2025.2 tzdata-2025.2\n"
          ]
        },
        {
          "name": "stderr",
          "output_type": "stream",
          "text": [
            "El sistema no puede encontrar la ruta especificada.\n",
            "\n",
            "[notice] A new release of pip is available: 25.0.1 -> 25.1\n",
            "[notice] To update, run: python.exe -m pip install --upgrade pip\n"
          ]
        }
      ],
      "source": [
        "# instalo  itables solo si no esta instalado\n",
        "!pip show itables >/dev/null || pip install itables"
      ]
    },
    {
      "cell_type": "code",
      "execution_count": 2,
      "metadata": {
        "colab": {
          "base_uri": "https://localhost:8080/",
          "height": 17
        },
        "id": "nB5zxU_iNNR7",
        "outputId": "2773aee0-408b-4530-d494-8a2dda9d7b8a"
      },
      "outputs": [
        {
          "ename": "AttributeError",
          "evalue": "partially initialized module 'polars' from 'c:\\Users\\Guadalupe\\AppData\\Local\\Programs\\Python\\Python313\\Lib\\site-packages\\polars\\__init__.py' has no attribute '_cpu_check' (most likely due to a circular import)",
          "output_type": "error",
          "traceback": [
            "\u001b[31m---------------------------------------------------------------------------\u001b[39m",
            "\u001b[31mAttributeError\u001b[39m                            Traceback (most recent call last)",
            "\u001b[36mCell\u001b[39m\u001b[36m \u001b[39m\u001b[32mIn[2]\u001b[39m\u001b[32m, line 1\u001b[39m\n\u001b[32m----> \u001b[39m\u001b[32m1\u001b[39m \u001b[38;5;28;01mimport\u001b[39;00m\u001b[38;5;250m \u001b[39m\u001b[34;01mpolars\u001b[39;00m\u001b[38;5;250m \u001b[39m\u001b[38;5;28;01mas\u001b[39;00m\u001b[38;5;250m \u001b[39m\u001b[34;01mpl\u001b[39;00m\n\u001b[32m      2\u001b[39m \u001b[38;5;28;01mimport\u001b[39;00m\u001b[38;5;250m \u001b[39m\u001b[34;01mnumpy\u001b[39;00m\u001b[38;5;250m \u001b[39m\u001b[38;5;28;01mas\u001b[39;00m\u001b[38;5;250m \u001b[39m\u001b[34;01mnp\u001b[39;00m\n\u001b[32m      3\u001b[39m \u001b[38;5;28;01mimport\u001b[39;00m\u001b[38;5;250m \u001b[39m\u001b[34;01mmath\u001b[39;00m\n",
            "\u001b[36mFile \u001b[39m\u001b[32mc:\\Users\\Guadalupe\\AppData\\Local\\Programs\\Python\\Python313\\Lib\\site-packages\\polars\\__init__.py:8\u001b[39m\n\u001b[32m      3\u001b[39m \u001b[38;5;28;01mwith\u001b[39;00m contextlib.suppress(\u001b[38;5;167;01mImportError\u001b[39;00m):  \u001b[38;5;66;03m# Module not available when building docs\u001b[39;00m\n\u001b[32m      4\u001b[39m     \u001b[38;5;66;03m# This must be done before importing the Polars Rust bindings, otherwise we\u001b[39;00m\n\u001b[32m      5\u001b[39m     \u001b[38;5;66;03m# might execute illegal instructions.\u001b[39;00m\n\u001b[32m      6\u001b[39m     \u001b[38;5;28;01mimport\u001b[39;00m\u001b[38;5;250m \u001b[39m\u001b[34;01mpolars\u001b[39;00m\u001b[34;01m.\u001b[39;00m\u001b[34;01m_cpu_check\u001b[39;00m\n\u001b[32m----> \u001b[39m\u001b[32m8\u001b[39m     \u001b[43mpolars\u001b[49m\u001b[43m.\u001b[49m\u001b[43m_cpu_check\u001b[49m.check_cpu_flags()\n\u001b[32m     10\u001b[39m     \u001b[38;5;66;03m# We also configure the allocator before importing the Polars Rust bindings.\u001b[39;00m\n\u001b[32m     11\u001b[39m     \u001b[38;5;66;03m# See https://github.com/pola-rs/polars/issues/18088,\u001b[39;00m\n\u001b[32m     12\u001b[39m     \u001b[38;5;66;03m# https://github.com/pola-rs/polars/pull/21829.\u001b[39;00m\n\u001b[32m     13\u001b[39m     \u001b[38;5;28;01mimport\u001b[39;00m\u001b[38;5;250m \u001b[39m\u001b[34;01mos\u001b[39;00m\n",
            "\u001b[31mAttributeError\u001b[39m: partially initialized module 'polars' from 'c:\\Users\\Guadalupe\\AppData\\Local\\Programs\\Python\\Python313\\Lib\\site-packages\\polars\\__init__.py' has no attribute '_cpu_check' (most likely due to a circular import)"
          ]
        }
      ],
      "source": [
        "import polars as pl\n",
        "import numpy as np\n",
        "import math\n",
        "from typing import Optional, Tuple, Dict, List\n",
        "import matplotlib.pyplot as plt\n",
        "%matplotlib inline\n",
        "import seaborn as sns\n",
        "#from IPython import display\n",
        "import time\n",
        "import os\n",
        "import pickle\n",
        "from functools import reduce\n",
        "from itables import init_notebook_mode\n",
        "init_notebook_mode(all_interactive=True)\n",
        "import cv2\n",
        "from sklearn.manifold import Isomap\n",
        "from sklearn.model_selection import train_test_split\n",
        "import shutil\n",
        "from sklearn.metrics import pairwise_distances\n",
        "from sklearn.preprocessing import LabelBinarizer"
      ]
    },
    {
      "cell_type": "markdown",
      "metadata": {
        "id": "3A4qZtmsSble"
      },
      "source": [
        "## **Cargar modelo DNN para la detección de caras**"
      ]
    },
    {
      "cell_type": "code",
      "execution_count": null,
      "metadata": {
        "id": "PSB4I_sP3bI5"
      },
      "outputs": [],
      "source": [
        "# Cargar el modelo DNN para detección de caras\n",
        "MODELO_DIR = \"/content/drive/MyDrive/DMA_Eigenfaces\"\n",
        "PROTOTXT_PATH = os.path.join(MODELO_DIR, \"deploy.prototxt\")\n",
        "CAFFEMODEL_PATH = os.path.join(MODELO_DIR, \"res10_300x300_ssd_iter_140000.caffemodel\")\n",
        "\n",
        "def verificar_y_descargar_modelos():\n",
        "    os.makedirs(MODELO_DIR, exist_ok=True)\n",
        "    if not os.path.exists(PROTOTXT_PATH):\n",
        "        !wget -q -O \"{PROTOTXT_PATH}\" https://raw.githubusercontent.com/opencv/opencv/master/samples/dnn/face_detector/deploy.prototxt\n",
        "    if not os.path.exists(CAFFEMODEL_PATH):\n",
        "        !wget -q -O \"{CAFFEMODEL_PATH}\" https://github.com/opencv/opencv_3rdparty/raw/dnn_samples_face_detector_20170830/res10_300x300_ssd_iter_140000.caffemodel\n",
        "\n",
        "def cargar_face_detector() -> cv2.dnn_Net:\n",
        "    verificar_y_descargar_modelos()\n",
        "    net = cv2.dnn.readNetFromCaffe(PROTOTXT_PATH, CAFFEMODEL_PATH)\n",
        "    return net"
      ]
    },
    {
      "cell_type": "markdown",
      "metadata": {
        "id": "yJcIVOxiTfMU"
      },
      "source": [
        "## **Función para detectar los rostros**"
      ]
    },
    {
      "cell_type": "code",
      "execution_count": null,
      "metadata": {
        "id": "F0NninZXkdCT"
      },
      "outputs": [],
      "source": [
        "def detectar_cara_dnn(img: np.ndarray, net: cv2.dnn_Net, confidence_threshold: float) -> Optional[Tuple[int, int, int, int]]:\n",
        "    \"\"\"\n",
        "    Detecta una cara y devuelve las coordenadas de la mejor detección como (x1, y1, x2, y2).\n",
        "    No realiza recortes, ni cambios de color, ni resize.\n",
        "    \"\"\"\n",
        "    if img is None:\n",
        "        return None\n",
        "\n",
        "    h, w = img.shape[:2]\n",
        "    blob = cv2.dnn.blobFromImage(cv2.resize(img, (300, 300)), 1.0, (300, 300), (104.0, 177.0, 123.0))\n",
        "    net.setInput(blob)\n",
        "    detections = net.forward()\n",
        "\n",
        "    if detections.shape[2] == 0:\n",
        "        return None\n",
        "\n",
        "    best_conf, best_box = 0, None\n",
        "    for i in range(detections.shape[2]):\n",
        "        conf = detections[0, 0, i, 2]\n",
        "        if conf > best_conf and conf > confidence_threshold:\n",
        "            box = detections[0, 0, i, 3:7] * np.array([w, h, w, h])\n",
        "            best_box = box.astype(\"int\")\n",
        "            best_conf = conf\n",
        "\n",
        "    if best_box is None:\n",
        "        return None\n",
        "\n",
        "    x1, y1, x2, y2 = best_box\n",
        "    return (x1, y1, x2, y2)\n"
      ]
    },
    {
      "cell_type": "markdown",
      "metadata": {
        "id": "wal-ioAEaLDU"
      },
      "source": [
        "## **Función para procesar las imagenes y guardarlas redimensionadas en disco.**"
      ]
    },
    {
      "cell_type": "code",
      "execution_count": null,
      "metadata": {
        "id": "W50m76imycPI"
      },
      "outputs": [],
      "source": [
        "def procesar_y_crear_dataset(\n",
        "    input_folder: str,\n",
        "    output_folder: str,\n",
        "    sin_caras_folder: Optional[str],\n",
        "    pickle_path: Optional[str],\n",
        "    net: cv2.dnn_Net,\n",
        "    img_size: Tuple[int, int] = (64, 64),\n",
        "    confidence_threshold: float = 0.3\n",
        ") -> pl.DataFrame:\n",
        "    \"\"\"\n",
        "    Procesa imágenes: detecta caras, recorta, convierte a gris, resizea, guarda en disco y crea un DataFrame Polars.\n",
        "    Opcionalmente, guarda el DataFrame en un archivo Pickle.\n",
        "\n",
        "    Args:\n",
        "        input_folder: Carpeta con subcarpetas de imágenes etiquetadas.\n",
        "        output_folder: Carpeta donde se guardarán las imágenes procesadas.\n",
        "        sin_caras_folder: Carpeta para imágenes sin caras detectadas (opcional).\n",
        "        pickle_path: Ruta para guardar el DataFrame como archivo Pickle (opcional).\n",
        "        net: Modelo DNN para detección de caras.\n",
        "        img_size: Tamaño al que se redimensionan las imágenes.\n",
        "        confidence_threshold: Umbral de confianza para detección de caras.\n",
        "\n",
        "    Returns:\n",
        "        Polars DataFrame con dos columnas: 'imagen' (array aplanado) y 'etiqueta' (nombre de la persona).\n",
        "    \"\"\"\n",
        "    imagenes = []\n",
        "    etiquetas = []\n",
        "\n",
        "    for subdir, _, files in os.walk(input_folder):\n",
        "        etiqueta = os.path.basename(subdir)\n",
        "        if subdir == input_folder:\n",
        "            continue\n",
        "\n",
        "        output_subdir = os.path.join(output_folder, etiqueta)\n",
        "        os.makedirs(output_subdir, exist_ok=True)\n",
        "\n",
        "        for file in files:\n",
        "            if not file.lower().endswith(('.jpg', '.jpeg', '.png')):\n",
        "                continue\n",
        "\n",
        "            input_path = os.path.join(subdir, file)\n",
        "            img = cv2.imread(input_path)\n",
        "\n",
        "            if img is None:\n",
        "                continue\n",
        "\n",
        "            box = detectar_cara_dnn(img, net, confidence_threshold)\n",
        "            if box is not None:\n",
        "                x1, y1, x2, y2 = box\n",
        "\n",
        "                # Añadir margen\n",
        "                margin_ratio = 0.2\n",
        "                bw, bh = x2 - x1, y2 - y1\n",
        "                x1 = max(0, x1 - int(bw * margin_ratio))\n",
        "                y1 = max(0, y1 - int(bh * margin_ratio))\n",
        "                x2 = min(img.shape[1], x2 + int(bw * margin_ratio))\n",
        "                y2 = min(img.shape[0], y2 + int(bh * margin_ratio))\n",
        "\n",
        "                face_crop = img[y1:y2, x1:x2]\n",
        "                face_crop = cv2.cvtColor(face_crop, cv2.COLOR_BGR2GRAY)\n",
        "                face_crop = cv2.resize(face_crop, img_size)\n",
        "\n",
        "                # Guardar imagen procesada\n",
        "                output_path = os.path.join(output_subdir, file)\n",
        "                cv2.imwrite(output_path, face_crop)\n",
        "\n",
        "                # Aplanar imagen para el DataFrame\n",
        "                img_flat = face_crop.flatten()\n",
        "                imagenes.append(img_flat)\n",
        "                etiquetas.append(etiqueta)\n",
        "\n",
        "            else:\n",
        "                if sin_caras_folder:\n",
        "                    os.makedirs(sin_caras_folder, exist_ok=True)\n",
        "                    cv2.imwrite(os.path.join(sin_caras_folder, file), img)\n",
        "\n",
        "    df = pl.DataFrame({\n",
        "        \"imagen\": imagenes,\n",
        "        \"etiqueta\": etiquetas\n",
        "    })\n",
        "\n",
        "    # Guardar DataFrame como Pickle si se especifica pickle_path\n",
        "    if pickle_path:\n",
        "        os.makedirs(os.path.dirname(pickle_path) or '.', exist_ok=True)\n",
        "        with open(pickle_path, 'wb') as f:\n",
        "            pickle.dump(df, f)\n",
        "\n",
        "    return df"
      ]
    },
    {
      "cell_type": "markdown",
      "metadata": {
        "id": "Qm2iuQ9uy5TC"
      },
      "source": [
        "## ** Definición de carpetas origen y destino y carga de modelos para detección de caras."
      ]
    },
    {
      "cell_type": "code",
      "execution_count": null,
      "metadata": {
        "id": "deniUhuKZxYM"
      },
      "outputs": [],
      "source": [
        "net = cargar_face_detector()  # Esto automáticamente verifica/descarga/carga ✅\n",
        "\n",
        "# 1. Definir carpetas\n",
        "input_folder = \"/content/drive/MyDrive/DMA_Eigenfaces/Eigenfaces\"\n",
        "output_folder = \"/content/drive/MyDrive/DMA_Eigenfaces/Caras_Procesadas_DNN\"\n",
        "sin_caras_folder = \"/content/drive/MyDrive/DMA_Eigenfaces/Sin_Caras_DNN\"\n",
        "pickle_path = \"/content/drive/MyDrive/DMA_Eigenfaces/df_caras\"\n"
      ]
    },
    {
      "cell_type": "markdown",
      "metadata": {
        "id": "bhkiRkl2et9U"
      },
      "source": [
        "## **Procesamos las imágenes y guardamos en output_folder**"
      ]
    },
    {
      "cell_type": "code",
      "execution_count": null,
      "metadata": {
        "id": "9TVyOEOKa0EQ"
      },
      "outputs": [],
      "source": [
        "# Procesar imágenes y obtener DataFrame\n",
        "df = procesar_y_crear_dataset(\n",
        "    input_folder,\n",
        "    output_folder,\n",
        "    sin_caras_folder,\n",
        "    pickle_path,\n",
        "    net=net,\n",
        "    img_size=(64, 64),\n",
        "    confidence_threshold=0.3\n",
        ")"
      ]
    },
    {
      "cell_type": "code",
      "execution_count": null,
      "metadata": {
        "colab": {
          "base_uri": "https://localhost:8080/"
        },
        "id": "7LAeyGKJhVk7",
        "outputId": "d3463552-3d50-4e73-ced8-35a0853a7bed"
      },
      "outputs": [
        {
          "name": "stdout",
          "output_type": "stream",
          "text": [
            "shape: (5, 43)\n",
            "┌───────────┬───────────┬───────────┬───────────┬───┬───────────┬───────────┬───────────┬──────────┐\n",
            "│ x1        ┆ x2        ┆ x3        ┆ x4        ┆ … ┆ y_Maurici ┆ y_Natalia ┆ y_NoeliaM ┆ y_Noelia │\n",
            "│ ---       ┆ ---       ┆ ---       ┆ ---       ┆   ┆ o         ┆ ---       ┆ ---       ┆ R        │\n",
            "│ f64       ┆ f64       ┆ f64       ┆ f64       ┆   ┆ ---       ┆ i64       ┆ i64       ┆ ---      │\n",
            "│           ┆           ┆           ┆           ┆   ┆ i64       ┆           ┆           ┆ i64      │\n",
            "╞═══════════╪═══════════╪═══════════╪═══════════╪═══╪═══════════╪═══════════╪═══════════╪══════════╡\n",
            "│ 6212.9518 ┆ -910.5789 ┆ -564.1508 ┆ 2112.5240 ┆ … ┆ 0         ┆ 0         ┆ 0         ┆ 0        │\n",
            "│ 56        ┆ 21        ┆ 63        ┆ 24        ┆   ┆           ┆           ┆           ┆          │\n",
            "│ -4079.621 ┆ 4848.1566 ┆ 383.27619 ┆ 2031.9291 ┆ … ┆ 0         ┆ 0         ┆ 0         ┆ 0        │\n",
            "│ 47        ┆ 76        ┆           ┆ 16        ┆   ┆           ┆           ┆           ┆          │\n",
            "│ 5845.1036 ┆ 3592.9298 ┆ -2714.944 ┆ 2485.5836 ┆ … ┆ 0         ┆ 0         ┆ 1         ┆ 0        │\n",
            "│ 89        ┆ 43        ┆ 026       ┆ 08        ┆   ┆           ┆           ┆           ┆          │\n",
            "│ -6578.487 ┆ 684.26557 ┆ -2608.610 ┆ -434.6496 ┆ … ┆ 0         ┆ 0         ┆ 0         ┆ 0        │\n",
            "│ 449       ┆ 2         ┆ 08        ┆ 57        ┆   ┆           ┆           ┆           ┆          │\n",
            "│ -4797.975 ┆ -3514.859 ┆ -2322.707 ┆ 502.63860 ┆ … ┆ 0         ┆ 0         ┆ 0         ┆ 0        │\n",
            "│ 214       ┆ 897       ┆ 781       ┆ 3         ┆   ┆           ┆           ┆           ┆          │\n",
            "└───────────┴───────────┴───────────┴───────────┴───┴───────────┴───────────┴───────────┴──────────┘\n"
          ]
        }
      ],
      "source": []
    },
    {
      "cell_type": "markdown",
      "metadata": {
        "id": "0tyPI3hODWUq"
      },
      "source": [
        "## **Cargar el dataset guardado**"
      ]
    },
    {
      "cell_type": "code",
      "execution_count": null,
      "metadata": {
        "id": "bHfpm0MODek_"
      },
      "outputs": [],
      "source": [
        "# Cargar el DataFrame desde el archivo Pickle\n",
        "with open(pickle_path, 'rb') as f:\n",
        "    df = pickle.load(f)"
      ]
    },
    {
      "cell_type": "code",
      "execution_count": null,
      "metadata": {
        "colab": {
          "base_uri": "https://localhost:8080/"
        },
        "id": "C_4UAMerhyq2",
        "outputId": "9752d397-423a-49dd-d47c-0cb997e48aaa"
      },
      "outputs": [
        {
          "name": "stdout",
          "output_type": "stream",
          "text": [
            "shape: (5, 2)\n",
            "┌──────────────────┬───────────┐\n",
            "│ imagen           ┆ etiqueta  │\n",
            "│ ---              ┆ ---       │\n",
            "│ array[u8, 4096]  ┆ str       │\n",
            "╞══════════════════╪═══════════╡\n",
            "│ [169, 168, … 17] ┆ Jorgelina │\n",
            "│ [165, 164, … 24] ┆ Jorgelina │\n",
            "│ [166, 166, … 16] ┆ Jorgelina │\n",
            "│ [168, 167, … 19] ┆ Jorgelina │\n",
            "│ [160, 163, … 14] ┆ Jorgelina │\n",
            "└──────────────────┴───────────┘\n"
          ]
        }
      ],
      "source": [
        "print(df.head())"
      ]
    },
    {
      "cell_type": "markdown",
      "metadata": {
        "id": "P7H1jGIbSNHb"
      },
      "source": [
        "## **Preparar dataframe para ISOMAP**"
      ]
    },
    {
      "cell_type": "code",
      "execution_count": null,
      "metadata": {
        "id": "gJbNGTOXSVu7"
      },
      "outputs": [],
      "source": [
        "# Preparar datos para ISOMAP\n",
        "X = np.stack(df[\"imagen\"].to_list())  # Matriz de características\n",
        "y = df[\"etiqueta\"].to_numpy()         # Etiquetas"
      ]
    },
    {
      "cell_type": "markdown",
      "metadata": {
        "id": "vnBOZ_rix5wc"
      },
      "source": [
        "## **División en train y test antes de aplicar ISOMAP**"
      ]
    },
    {
      "cell_type": "code",
      "execution_count": null,
      "metadata": {
        "id": "2LxWfA_Ox5Ii"
      },
      "outputs": [],
      "source": [
        "X_train, X_test, y_train, y_test = train_test_split(X, y, test_size=0.20, stratify=y, random_state=42)\n"
      ]
    },
    {
      "cell_type": "markdown",
      "metadata": {
        "id": "08nDcTQbS1o1"
      },
      "source": [
        "## **Busqueda de mejores hiperparametros para ISOMAP**"
      ]
    },
    {
      "cell_type": "code",
      "execution_count": null,
      "metadata": {
        "id": "ZDuSANCsxFUu"
      },
      "outputs": [],
      "source": [
        "from sklearn.neural_network import MLPClassifier\n",
        "from sklearn.metrics import accuracy_score\n",
        "\n",
        "def buscar_mejores_hiperparametros_isomap_nn(X, y, n_neighbors_prueba=[5, 10, 15, 20], componentes_prueba=[10, 20, 30, 40, 50, 100], test_size=0.2, random_state=42):\n",
        "    \"\"\"\n",
        "    Busca los mejores n_neighbors y n_components para ISOMAP optimizando el rendimiento de una red neuronal.\n",
        "\n",
        "    Parameters:\n",
        "    -----------\n",
        "    X : array-like, shape (n_samples, n_features)\n",
        "        Training data (e.g., image features).\n",
        "    y : array-like, shape (n_samples,)\n",
        "        Labels (person identities).\n",
        "    n_neighbors_prueba : list, default=[5, 10, 15, 20]\n",
        "        List of n_neighbors values to test.\n",
        "    componentes_prueba : list, default=[10, 20, 50, 100]\n",
        "        List of n_components values to test.\n",
        "    test_size : float, default=0.2\n",
        "        Proportion of data to use as validation set.\n",
        "    random_state : int, default=42\n",
        "        Random seed for reproducibility.\n",
        "\n",
        "    Returns:\n",
        "    --------\n",
        "    mejor_n_neighbors : int\n",
        "        Best n_neighbors value.\n",
        "    mejor_n_components : int\n",
        "        Best n_components value.\n",
        "    \"\"\"\n",
        "    # Input validation\n",
        "    n_samples, n_features = X.shape\n",
        "    max_components = min(n_samples, n_features)\n",
        "    if any(n > max_components for n in componentes_prueba):\n",
        "        raise ValueError(f\"n_components must not exceed {max_components}\")\n",
        "    if any(n >= n_samples for n in n_neighbors_prueba):\n",
        "        raise ValueError(f\"n_neighbors must be less than {n_samples}\")\n",
        "\n",
        "    # Split data into training and validation sets\n",
        "    X_train, X_val, y_train, y_val = train_test_split(X, y, test_size=test_size, random_state=random_state, stratify=y)\n",
        "\n",
        "    accuracies = np.zeros((len(n_neighbors_prueba), len(componentes_prueba)))\n",
        "\n",
        "    for i, n_neighbors in enumerate(n_neighbors_prueba):\n",
        "        for j, n_components in enumerate(componentes_prueba):\n",
        "            try:\n",
        "                # Apply ISOMAP\n",
        "                isomap = Isomap(n_neighbors=n_neighbors, n_components=n_components)\n",
        "                X_train_isomap = isomap.fit_transform(X_train)\n",
        "                X_val_isomap = isomap.transform(X_val)\n",
        "\n",
        "                # Train a simple neural network (MLP)\n",
        "                nn = MLPClassifier(hidden_layer_sizes=(100,), max_iter=500, random_state=random_state)\n",
        "                nn.fit(X_train_isomap, y_train)\n",
        "\n",
        "                # Evaluate on validation set\n",
        "                y_pred = nn.predict(X_val_isomap)\n",
        "                accuracy = accuracy_score(y_val, y_pred)\n",
        "                accuracies[i, j] = accuracy\n",
        "            except Exception as e:\n",
        "                print(f\"Error para n_neighbors={n_neighbors}, n_components={n_components}: {e}\")\n",
        "                accuracies[i, j] = 0.0  # Assign low accuracy if it fails\n",
        "\n",
        "    # Find best hyperparameters\n",
        "    max_accuracy_idx = np.unravel_index(np.argmax(accuracies, axis=None), accuracies.shape)\n",
        "    mejor_n_neighbors = n_neighbors_prueba[max_accuracy_idx[0]]\n",
        "    mejor_n_components = componentes_prueba[max_accuracy_idx[1]]\n",
        "    max_accuracy = accuracies[max_accuracy_idx]\n",
        "\n",
        "    # Visualize results\n",
        "    plt.figure(figsize=(10, 8))\n",
        "    sns.heatmap(accuracies, xticklabels=componentes_prueba, yticklabels=n_neighbors_prueba, annot=True, fmt=\".4f\", cmap=\"viridis\")\n",
        "    plt.xlabel('Número de componentes (n_components)')\n",
        "    plt.ylabel('Número de vecinos (n_neighbors)')\n",
        "    plt.title('Precisión de validación para ISOMAP + Red Neuronal')\n",
        "    plt.show()\n",
        "\n",
        "    print(f\"✅ Mejores hiperparámetros encontrados:\")\n",
        "    print(f\"   - n_neighbors: {mejor_n_neighbors}\")\n",
        "    print(f\"   - n_components: {mejor_n_components}\")\n",
        "    print(f\"   - Precisión de validación: {max_accuracy:.4f}\")\n",
        "\n",
        "    return mejor_n_neighbors, mejor_n_components"
      ]
    },
    {
      "cell_type": "code",
      "execution_count": null,
      "metadata": {
        "colab": {
          "base_uri": "https://localhost:8080/",
          "height": 1000
        },
        "id": "_idz95YdyeTU",
        "outputId": "2b5b94f7-2775-47a2-f20f-abe6b08d9b14"
      },
      "outputs": [
        {
          "name": "stderr",
          "output_type": "stream",
          "text": [
            "/usr/local/lib/python3.11/dist-packages/sklearn/manifold/_isomap.py:384: UserWarning: The number of connected components of the neighbors graph is 2 > 1. Completing the graph to fit Isomap might be slow. Increase the number of neighbors to avoid this issue.\n",
            "  self._fit_transform(X)\n",
            "/usr/local/lib/python3.11/dist-packages/scipy/sparse/_index.py:168: SparseEfficiencyWarning: Changing the sparsity structure of a csr_matrix is expensive. lil and dok are more efficient.\n",
            "  self._set_intXint(row, col, x.flat[0])\n",
            "/usr/local/lib/python3.11/dist-packages/sklearn/manifold/_isomap.py:384: UserWarning: The number of connected components of the neighbors graph is 2 > 1. Completing the graph to fit Isomap might be slow. Increase the number of neighbors to avoid this issue.\n",
            "  self._fit_transform(X)\n",
            "/usr/local/lib/python3.11/dist-packages/scipy/sparse/_index.py:168: SparseEfficiencyWarning: Changing the sparsity structure of a csr_matrix is expensive. lil and dok are more efficient.\n",
            "  self._set_intXint(row, col, x.flat[0])\n",
            "/usr/local/lib/python3.11/dist-packages/sklearn/manifold/_isomap.py:384: UserWarning: The number of connected components of the neighbors graph is 2 > 1. Completing the graph to fit Isomap might be slow. Increase the number of neighbors to avoid this issue.\n",
            "  self._fit_transform(X)\n",
            "/usr/local/lib/python3.11/dist-packages/scipy/sparse/_index.py:168: SparseEfficiencyWarning: Changing the sparsity structure of a csr_matrix is expensive. lil and dok are more efficient.\n",
            "  self._set_intXint(row, col, x.flat[0])\n",
            "/usr/local/lib/python3.11/dist-packages/sklearn/manifold/_isomap.py:384: UserWarning: The number of connected components of the neighbors graph is 2 > 1. Completing the graph to fit Isomap might be slow. Increase the number of neighbors to avoid this issue.\n",
            "  self._fit_transform(X)\n",
            "/usr/local/lib/python3.11/dist-packages/scipy/sparse/_index.py:168: SparseEfficiencyWarning: Changing the sparsity structure of a csr_matrix is expensive. lil and dok are more efficient.\n",
            "  self._set_intXint(row, col, x.flat[0])\n",
            "/usr/local/lib/python3.11/dist-packages/sklearn/manifold/_isomap.py:384: UserWarning: The number of connected components of the neighbors graph is 2 > 1. Completing the graph to fit Isomap might be slow. Increase the number of neighbors to avoid this issue.\n",
            "  self._fit_transform(X)\n",
            "/usr/local/lib/python3.11/dist-packages/scipy/sparse/_index.py:168: SparseEfficiencyWarning: Changing the sparsity structure of a csr_matrix is expensive. lil and dok are more efficient.\n",
            "  self._set_intXint(row, col, x.flat[0])\n",
            "/usr/local/lib/python3.11/dist-packages/sklearn/manifold/_isomap.py:384: UserWarning: The number of connected components of the neighbors graph is 2 > 1. Completing the graph to fit Isomap might be slow. Increase the number of neighbors to avoid this issue.\n",
            "  self._fit_transform(X)\n",
            "/usr/local/lib/python3.11/dist-packages/scipy/sparse/_index.py:168: SparseEfficiencyWarning: Changing the sparsity structure of a csr_matrix is expensive. lil and dok are more efficient.\n",
            "  self._set_intXint(row, col, x.flat[0])\n"
          ]
        },
        {
          "data": {
            "image/png": "[encoded data removed]",
            "text/plain": [
              "<Figure size 1000x800 with 2 Axes>"
            ]
          },
          "metadata": {},
          "output_type": "display_data"
        },
        {
          "name": "stdout",
          "output_type": "stream",
          "text": [
            "✅ Mejores hiperparámetros encontrados:\n",
            "   - n_neighbors: 5\n",
            "   - n_components: 20\n",
            "   - Precisión de validación: 0.8706\n"
          ]
        },
        {
          "data": {
            "text/plain": [
              "(5, 20)"
            ]
          },
          "execution_count": 22,
          "metadata": {},
          "output_type": "execute_result"
        }
      ],
      "source": [
        "buscar_mejores_hiperparametros_isomap_nn(X_train, y_train)"
      ]
    },
    {
      "cell_type": "code",
      "execution_count": null,
      "metadata": {
        "id": "y8sL9fSjn4SZ"
      },
      "outputs": [],
      "source": [
        "from sklearn.neighbors import kneighbors_graph\n",
        "from scipy.sparse.csgraph import connected_components\n",
        "import matplotlib.pyplot as plt\n",
        "\n",
        "def analizar_conectividad_grafo(X, vecinos_prueba=[2, 3, 4, 5, 6, 7, 8, 9, 10]):\n",
        "    componentes = []\n",
        "    for k in vecinos_prueba:\n",
        "        G = kneighbors_graph(X, n_neighbors=k, mode='distance', include_self=False, n_jobs=-1)\n",
        "        n_comp, _ = connected_components(G)\n",
        "        print(f\"Vecinos: {k} ➝ Componentes conectadas: {n_comp}\")\n",
        "        componentes.append(n_comp)\n",
        "\n",
        "    plt.figure(figsize=(8,5))\n",
        "    plt.plot(vecinos_prueba, componentes, marker='o')\n",
        "    plt.axhline(1, color='green', linestyle='--', label='Grafo conexo')\n",
        "    plt.xlabel(\"Número de vecinos\")\n",
        "    plt.ylabel(\"Componentes conectadas\")\n",
        "    plt.title(\"Conectividad del grafo de vecinos\")\n",
        "    plt.grid(True)\n",
        "    plt.legend()\n",
        "    plt.show()"
      ]
    },
    {
      "cell_type": "code",
      "execution_count": null,
      "metadata": {
        "colab": {
          "base_uri": "https://localhost:8080/",
          "height": 737
        },
        "id": "mT1JsYW6n71M",
        "outputId": "faeae53a-cee8-4958-da90-b5fe86e37eda"
      },
      "outputs": [
        {
          "name": "stdout",
          "output_type": "stream",
          "text": [
            "Vecinos: 2 ➝ Componentes conectadas: 27\n",
            "Vecinos: 3 ➝ Componentes conectadas: 13\n",
            "Vecinos: 4 ➝ Componentes conectadas: 7\n",
            "Vecinos: 5 ➝ Componentes conectadas: 3\n",
            "Vecinos: 6 ➝ Componentes conectadas: 2\n",
            "Vecinos: 7 ➝ Componentes conectadas: 2\n",
            "Vecinos: 8 ➝ Componentes conectadas: 2\n",
            "Vecinos: 9 ➝ Componentes conectadas: 1\n",
            "Vecinos: 10 ➝ Componentes conectadas: 1\n",
            "Vecinos: 12 ➝ Componentes conectadas: 1\n",
            "Vecinos: 13 ➝ Componentes conectadas: 1\n",
            "Vecinos: 14 ➝ Componentes conectadas: 1\n",
            "Vecinos: 15 ➝ Componentes conectadas: 1\n",
            "Vecinos: 20 ➝ Componentes conectadas: 1\n"
          ]
        },
        {
          "data": {
            "image/png": "[encoded data removed]",
            "text/plain": [
              "<Figure size 800x500 with 1 Axes>"
            ]
          },
          "metadata": {},
          "output_type": "display_data"
        }
      ],
      "source": [
        "analizar_conectividad_grafo(X_train, vecinos_prueba=[2, 3, 4, 5, 6, 7, 8, 9, 10, 12, 13, 14, 15, 20])"
      ]
    },
    {
      "cell_type": "code",
      "execution_count": null,
      "metadata": {
        "colab": {
          "base_uri": "https://localhost:8080/"
        },
        "id": "5QH9IVHxpD2j",
        "outputId": "6f2bddda-0935-42db-e40c-ec6057a288c1"
      },
      "outputs": [
        {
          "name": "stdout",
          "output_type": "stream",
          "text": [
            "🔍 Probando ISOMAP con vecinos=5, componentes=20\n"
          ]
        },
        {
          "name": "stderr",
          "output_type": "stream",
          "text": [
            "/usr/local/lib/python3.11/dist-packages/sklearn/manifold/_isomap.py:384: UserWarning: The number of connected components of the neighbors graph is 3 > 1. Completing the graph to fit Isomap might be slow. Increase the number of neighbors to avoid this issue.\n",
            "  self._fit_transform(X)\n",
            "/usr/local/lib/python3.11/dist-packages/scipy/sparse/_index.py:168: SparseEfficiencyWarning: Changing the sparsity structure of a csr_matrix is expensive. lil and dok are more efficient.\n",
            "  self._set_intXint(row, col, x.flat[0])\n",
            "/usr/local/lib/python3.11/dist-packages/scipy/sparse/_index.py:168: SparseEfficiencyWarning: Changing the sparsity structure of a csr_matrix is expensive. lil and dok are more efficient.\n",
            "  self._set_intXint(row, col, x.flat[0])\n",
            "/usr/local/lib/python3.11/dist-packages/scipy/sparse/_index.py:168: SparseEfficiencyWarning: Changing the sparsity structure of a csr_matrix is expensive. lil and dok are more efficient.\n",
            "  self._set_intXint(row, col, x.flat[0])\n"
          ]
        },
        {
          "name": "stdout",
          "output_type": "stream",
          "text": [
            "🔍 Probando ISOMAP con vecinos=9, componentes=10\n",
            "🔍 Probando ISOMAP con vecinos=9, componentes=20\n",
            "🔍 Probando ISOMAP con vecinos=9, componentes=30\n",
            "🔍 Probando ISOMAP con vecinos=9, componentes=35\n",
            "🔍 Probando ISOMAP con vecinos=10, componentes=20\n",
            "🔍 Probando ISOMAP con vecinos=15, componentes=20\n",
            "🔍 Probando ISOMAP con vecinos=20, componentes=20\n",
            "🔍 Probando ISOMAP con vecinos=15, componentes=30\n",
            "🔍 Probando ISOMAP con vecinos=15, componentes=40\n",
            "🔍 Probando ISOMAP con vecinos=12, componentes=20\n",
            "🔍 Probando ISOMAP con vecinos=12, componentes=10\n",
            "🔍 Probando ISOMAP con vecinos=12, componentes=18\n",
            "🔍 Probando ISOMAP con vecinos=8, componentes=20\n"
          ]
        },
        {
          "name": "stderr",
          "output_type": "stream",
          "text": [
            "/usr/local/lib/python3.11/dist-packages/sklearn/manifold/_isomap.py:384: UserWarning: The number of connected components of the neighbors graph is 2 > 1. Completing the graph to fit Isomap might be slow. Increase the number of neighbors to avoid this issue.\n",
            "  self._fit_transform(X)\n",
            "/usr/local/lib/python3.11/dist-packages/scipy/sparse/_index.py:168: SparseEfficiencyWarning: Changing the sparsity structure of a csr_matrix is expensive. lil and dok are more efficient.\n",
            "  self._set_intXint(row, col, x.flat[0])\n"
          ]
        },
        {
          "name": "stdout",
          "output_type": "stream",
          "text": [
            "🔍 Probando ISOMAP con vecinos=12, componentes=30\n",
            "🔍 Probando ISOMAP con vecinos=12, componentes=35\n",
            "🔍 Probando ISOMAP con vecinos=13, componentes=20\n",
            "🔍 Probando ISOMAP con vecinos=8, componentes=35\n"
          ]
        },
        {
          "name": "stderr",
          "output_type": "stream",
          "text": [
            "/usr/local/lib/python3.11/dist-packages/sklearn/manifold/_isomap.py:384: UserWarning: The number of connected components of the neighbors graph is 2 > 1. Completing the graph to fit Isomap might be slow. Increase the number of neighbors to avoid this issue.\n",
            "  self._fit_transform(X)\n",
            "/usr/local/lib/python3.11/dist-packages/scipy/sparse/_index.py:168: SparseEfficiencyWarning: Changing the sparsity structure of a csr_matrix is expensive. lil and dok are more efficient.\n",
            "  self._set_intXint(row, col, x.flat[0])\n"
          ]
        }
      ],
      "source": [
        "from sklearn.manifold import Isomap\n",
        "from sklearn.model_selection import train_test_split\n",
        "from sklearn.neural_network import MLPClassifier\n",
        "from sklearn.metrics import accuracy_score\n",
        "\n",
        "combinaciones = [\n",
        "    (5, 20),\n",
        "    (9, 10),\n",
        "    (9,20),\n",
        "    (9,30),\n",
        "    (9,35),\n",
        "    (10, 20),\n",
        "    (15, 20),\n",
        "    (20, 20),\n",
        "    (15,30),\n",
        "    (15,40),\n",
        "    (12,20),\n",
        "    (12,10),\n",
        "    (12,18),\n",
        "    (8,20),\n",
        "    (12,30),\n",
        "    (12,35),\n",
        "    (13,20),\n",
        "    (8,35),\n",
        "]\n",
        "\n",
        "# Dividir dataset\n",
        "X_train, X_test, y_train, y_test = train_test_split(\n",
        "    X, y, test_size=0.20, stratify=y, random_state=42\n",
        ")\n",
        "\n",
        "resultados = []\n",
        "\n",
        "for k, n in combinaciones:\n",
        "    print(f\"🔍 Probando ISOMAP con vecinos={k}, componentes={n}\")\n",
        "    try:\n",
        "        # ISOMAP\n",
        "        isomap = Isomap(n_neighbors=k, n_components=n)\n",
        "        X_train_iso = isomap.fit_transform(X_train)\n",
        "        X_test_iso = isomap.transform(X_test)\n",
        "\n",
        "        # MLP\n",
        "        mlp = MLPClassifier(hidden_layer_sizes=(100,), activation='relu', max_iter=500, random_state=42)\n",
        "        mlp.fit(X_train_iso, y_train)\n",
        "\n",
        "        y_train_pred = mlp.predict(X_train_iso)\n",
        "        y_test_pred = mlp.predict(X_test_iso)\n",
        "\n",
        "        train_acc = accuracy_score(y_train, y_train_pred)\n",
        "        test_acc = accuracy_score(y_test, y_test_pred)\n",
        "\n",
        "        resultados.append({\n",
        "            \"vecinos\": k,\n",
        "            \"componentes\": n,\n",
        "            \"train_error\": 1 - train_acc,\n",
        "            \"test_error\": 1 - test_acc\n",
        "        })\n",
        "\n",
        "    except Exception as e:\n",
        "        print(f\"❌ Error con k={k}, n={n}: {e}\")"
      ]
    },
    {
      "cell_type": "code",
      "execution_count": null,
      "metadata": {
        "colab": {
          "base_uri": "https://localhost:8080/",
          "height": 499
        },
        "id": "bxZnioRipvH6",
        "outputId": "ad0c2bd1-db30-4f46-ccbb-efbd11af67dd"
      },
      "outputs": [
        {
          "data": {
            "text/html": [
              "<table id=\"itables_86796728_22ec_4881_bee4_ccbdb5b92649\" class=\"display nowrap\" data-quarto-disable-processing=\"true\" style=\"table-layout:auto;width:auto;margin:auto;caption-side:bottom\">\n",
              "<thead>\n",
              "    <tr style=\"text-align: right;\">\n",
              "      \n",
              "      <th>vecinos</th>\n",
              "      <th>componentes</th>\n",
              "      <th>train_error</th>\n",
              "      <th>test_error</th>\n",
              "    </tr>\n",
              "  </thead><tbody><tr>\n",
              "<td style=\"vertical-align:middle; text-align:left\">\n",
              "<a href=https://mwouts.github.io/itables/><svg class=\"main-svg\" xmlns=\"http://www.w3.org/2000/svg\" xmlns:xlink=\"http://www.w3.org/1999/xlink\"\n",
              "width=\"64\" viewBox=\"0 0 500 400\" style=\"font-family: 'Droid Sans', sans-serif;\">\n",
              "    <g style=\"fill:#d9d7fc\">\n",
              "        <path d=\"M100,400H500V357H100Z\" />\n",
              "        <path d=\"M100,300H400V257H100Z\" />\n",
              "        <path d=\"M0,200H400V157H0Z\" />\n",
              "        <path d=\"M100,100H500V57H100Z\" />\n",
              "        <path d=\"M100,350H500V307H100Z\" />\n",
              "        <path d=\"M100,250H400V207H100Z\" />\n",
              "        <path d=\"M0,150H400V107H0Z\" />\n",
              "        <path d=\"M100,50H500V7H100Z\" />\n",
              "    </g>\n",
              "    <g style=\"fill:#1a1366;stroke:#1a1366;\">\n",
              "   <rect x=\"100\" y=\"7\" width=\"400\" height=\"43\">\n",
              "    <animate\n",
              "      attributeName=\"width\"\n",
              "      values=\"0;400;0\"\n",
              "      dur=\"5s\"\n",
              "      repeatCount=\"indefinite\" />\n",
              "      <animate\n",
              "      attributeName=\"x\"\n",
              "      values=\"100;100;500\"\n",
              "      dur=\"5s\"\n",
              "      repeatCount=\"indefinite\" />\n",
              "  </rect>\n",
              "        <rect x=\"0\" y=\"107\" width=\"400\" height=\"43\">\n",
              "    <animate\n",
              "      attributeName=\"width\"\n",
              "      values=\"0;400;0\"\n",
              "      dur=\"3.5s\"\n",
              "      repeatCount=\"indefinite\" />\n",
              "    <animate\n",
              "      attributeName=\"x\"\n",
              "      values=\"0;0;400\"\n",
              "      dur=\"3.5s\"\n",
              "      repeatCount=\"indefinite\" />\n",
              "  </rect>\n",
              "        <rect x=\"100\" y=\"207\" width=\"300\" height=\"43\">\n",
              "    <animate\n",
              "      attributeName=\"width\"\n",
              "      values=\"0;300;0\"\n",
              "      dur=\"3s\"\n",
              "      repeatCount=\"indefinite\" />\n",
              "    <animate\n",
              "      attributeName=\"x\"\n",
              "      values=\"100;100;400\"\n",
              "      dur=\"3s\"\n",
              "      repeatCount=\"indefinite\" />\n",
              "  </rect>\n",
              "        <rect x=\"100\" y=\"307\" width=\"400\" height=\"43\">\n",
              "    <animate\n",
              "      attributeName=\"width\"\n",
              "      values=\"0;400;0\"\n",
              "      dur=\"4s\"\n",
              "      repeatCount=\"indefinite\" />\n",
              "      <animate\n",
              "      attributeName=\"x\"\n",
              "      values=\"100;100;500\"\n",
              "      dur=\"4s\"\n",
              "      repeatCount=\"indefinite\" />\n",
              "  </rect>\n",
              "        <g style=\"fill:transparent;stroke-width:8; stroke-linejoin:round\" rx=\"5\">\n",
              "            <g transform=\"translate(45 50) rotate(-45)\">\n",
              "                <circle r=\"33\" cx=\"0\" cy=\"0\" />\n",
              "                <rect x=\"-8\" y=\"32\" width=\"16\" height=\"30\" />\n",
              "            </g>\n",
              "\n",
              "            <g transform=\"translate(450 152)\">\n",
              "                <polyline points=\"-15,-20 -35,-20 -35,40 25,40 25,20\" />\n",
              "                <rect x=\"-15\" y=\"-40\" width=\"60\" height=\"60\" />\n",
              "            </g>\n",
              "\n",
              "            <g transform=\"translate(50 352)\">\n",
              "                <polygon points=\"-35,-5 0,-40 35,-5\" />\n",
              "                <polygon points=\"-35,10 0,45 35,10\" />\n",
              "            </g>\n",
              "\n",
              "            <g transform=\"translate(75 250)\">\n",
              "                <polyline points=\"-30,30 -60,0 -30,-30\" />\n",
              "                <polyline points=\"0,30 -30,0 0,-30\" />\n",
              "            </g>\n",
              "\n",
              "            <g transform=\"translate(425 250) rotate(180)\">\n",
              "                <polyline points=\"-30,30 -60,0 -30,-30\" />\n",
              "                <polyline points=\"0,30 -30,0 0,-30\" />\n",
              "            </g>\n",
              "        </g>\n",
              "    </g>\n",
              "</svg>\n",
              "</a>\n",
              "Loading ITables v2.3.0 from the internet...\n",
              "(need <a href=https://mwouts.github.io/itables/troubleshooting.html>help</a>?)</td>\n",
              "</tr></tbody>\n",
              "</table>\n",
              "<link href=\"https://www.unpkg.com/dt_for_itables@2.2.0/dt_bundle.css\" rel=\"stylesheet\">\n",
              "<script type=\"module\">\n",
              "    import {DataTable, jQuery as $} from 'https://www.unpkg.com/dt_for_itables@2.2.0/dt_bundle.js';\n",
              "\n",
              "    document.querySelectorAll(\"#itables_86796728_22ec_4881_bee4_ccbdb5b92649:not(.dataTable)\").forEach(table => {\n",
              "        if (!(table instanceof HTMLTableElement))\n",
              "            return;\n",
              "\n",
              "        // Define the table data\n",
              "        const data = [[5, 20, 0.0, 0.12264150943396224], [9, 30, 0.0, 0.12264150943396224], [9, 10, 0.0, 0.13207547169811318], [8, 35, 0.0, 0.14150943396226412], [9, 20, 0.0, 0.160377358490566], [10, 20, 0.0023696682464454666, 0.17924528301886788], [8, 20, 0.0, 0.17924528301886788], [12, 35, 0.0, 0.17924528301886788], [12, 18, 0.0, 0.18867924528301883], [12, 30, 0.0, 0.18867924528301883], [15, 40, 0.0, 0.19811320754716977], [12, 20, 0.0, 0.19811320754716977], [15, 20, 0.0, 0.2075471698113207], [15, 30, 0.0, 0.2075471698113207], [9, 35, 0.0, 0.21698113207547165], [20, 20, 0.0, 0.21698113207547165], [12, 10, 0.03791469194312791, 0.21698113207547165], [13, 20, 0.0, 0.21698113207547165]];\n",
              "\n",
              "        // Define the dt_args\n",
              "        let dt_args = {\"layout\": {\"topStart\": \"pageLength\", \"topEnd\": \"search\", \"bottomStart\": \"info\", \"bottomEnd\": \"paging\"}, \"order\": [], \"warn_on_selected_rows_not_rendered\": true};\n",
              "        dt_args[\"data\"] = data;\n",
              "\n",
              "        \n",
              "        new DataTable(table, dt_args);\n",
              "    });\n",
              "</script>\n"
            ],
            "text/plain": [
              "shape: (18, 4)\n",
              "┌─────────┬─────────────┬─────────────┬────────────┐\n",
              "│ vecinos ┆ componentes ┆ train_error ┆ test_error │\n",
              "│ ---     ┆ ---         ┆ ---         ┆ ---        │\n",
              "│ i64     ┆ i64         ┆ f64         ┆ f64        │\n",
              "╞═════════╪═════════════╪═════════════╪════════════╡\n",
              "│ 5       ┆ 20          ┆ 0.0         ┆ 0.122642   │\n",
              "│ 9       ┆ 30          ┆ 0.0         ┆ 0.122642   │\n",
              "│ 9       ┆ 10          ┆ 0.0         ┆ 0.132075   │\n",
              "│ 8       ┆ 35          ┆ 0.0         ┆ 0.141509   │\n",
              "│ 9       ┆ 20          ┆ 0.0         ┆ 0.160377   │\n",
              "│ …       ┆ …           ┆ …           ┆ …          │\n",
              "│ 15      ┆ 30          ┆ 0.0         ┆ 0.207547   │\n",
              "│ 9       ┆ 35          ┆ 0.0         ┆ 0.216981   │\n",
              "│ 20      ┆ 20          ┆ 0.0         ┆ 0.216981   │\n",
              "│ 12      ┆ 10          ┆ 0.037915    ┆ 0.216981   │\n",
              "│ 13      ┆ 20          ┆ 0.0         ┆ 0.216981   │\n",
              "└─────────┴─────────────┴─────────────┴────────────┘"
            ]
          },
          "execution_count": 26,
          "metadata": {},
          "output_type": "execute_result"
        }
      ],
      "source": [
        "resultados_df = pl.DataFrame(resultados).sort(\"test_error\")\n",
        "\n",
        "resultados_df"
      ]
    },
    {
      "cell_type": "markdown",
      "metadata": {
        "id": "OrYXcgUGTAg8"
      },
      "source": [
        "## **Aplicamos ISOMAP con los mejores hiperparametros encontrados**"
      ]
    },
    {
      "cell_type": "code",
      "execution_count": null,
      "metadata": {
        "id": "S3AxIxBNWTUp"
      },
      "outputs": [],
      "source": [
        "# vecinos a probar: [5, 8, 9, 10, 12, 15] y componentes a probar: [10, 20, 30, 35]\n",
        "isomap = Isomap(n_neighbors= 9, n_components= 30)\n",
        "X_train_iso = isomap.fit_transform(X_train)\n",
        "X_test_iso = isomap.transform(X_test)"
      ]
    },
    {
      "cell_type": "markdown",
      "metadata": {
        "id": "IbCvqX0LWWbm"
      },
      "source": [
        "## **Proyeccion ISOMAP de las caras por persona**"
      ]
    },
    {
      "cell_type": "code",
      "execution_count": null,
      "metadata": {
        "colab": {
          "base_uri": "https://localhost:8080/",
          "height": 699
        },
        "id": "Kh6in_33F8cU",
        "outputId": "3e47555c-3269-4818-a7f0-5959b6d3dd7b"
      },
      "outputs": [
        {
          "data": {
            "image/png": "[encoded data removed]",
            "text/plain": [
              "<Figure size 1000x800 with 1 Axes>"
            ]
          },
          "metadata": {},
          "output_type": "display_data"
        }
      ],
      "source": [
        "plt.figure(figsize=(10, 8))\n",
        "for etiqueta in set(y_train):\n",
        "    idxs = [i for i, e in enumerate(y_train) if e == etiqueta]\n",
        "    plt.scatter(X_train_iso[idxs, 0], X_train_iso[idxs, 1], label=etiqueta)\n",
        "\n",
        "plt.legend()\n",
        "plt.title(\"Proyección ISOMAP de las caras por persona\")\n",
        "plt.show()"
      ]
    },
    {
      "cell_type": "markdown",
      "metadata": {
        "id": "bSsilTo5tmLK"
      },
      "source": [
        "## **Generamos dataframe train**"
      ]
    },
    {
      "cell_type": "code",
      "execution_count": null,
      "metadata": {
        "colab": {
          "base_uri": "https://localhost:8080/",
          "height": 263
        },
        "id": "_5oBaC8glicv",
        "outputId": "969dad2c-e072-4f1b-c9cf-a274f8bc45a0"
      },
      "outputs": [
        {
          "data": {
            "text/html": [
              "<table id=\"itables_d81718d4_3567_4ac4_8b63_209e1be92144\" class=\"display nowrap\" data-quarto-disable-processing=\"true\" style=\"table-layout:auto;width:auto;margin:auto;caption-side:bottom\">\n",
              "<thead>\n",
              "    <tr style=\"text-align: right;\">\n",
              "      \n",
              "      <th>x1</th>\n",
              "      <th>x2</th>\n",
              "      <th>x3</th>\n",
              "      <th>x4</th>\n",
              "      <th>x5</th>\n",
              "      <th>x6</th>\n",
              "      <th>x7</th>\n",
              "      <th>x8</th>\n",
              "      <th>x9</th>\n",
              "      <th>x10</th>\n",
              "      <th>x11</th>\n",
              "      <th>x12</th>\n",
              "      <th>x13</th>\n",
              "      <th>x14</th>\n",
              "      <th>x15</th>\n",
              "      <th>x16</th>\n",
              "      <th>x17</th>\n",
              "      <th>x18</th>\n",
              "      <th>x19</th>\n",
              "      <th>x20</th>\n",
              "      <th>x21</th>\n",
              "      <th>x22</th>\n",
              "      <th>x23</th>\n",
              "      <th>x24</th>\n",
              "      <th>x25</th>\n",
              "      <th>x26</th>\n",
              "      <th>x27</th>\n",
              "      <th>x28</th>\n",
              "      <th>x29</th>\n",
              "      <th>x30</th>\n",
              "      <th>y</th>\n",
              "    </tr>\n",
              "  </thead><tbody><tr>\n",
              "<td style=\"vertical-align:middle; text-align:left\">\n",
              "<a href=https://mwouts.github.io/itables/><svg class=\"main-svg\" xmlns=\"http://www.w3.org/2000/svg\" xmlns:xlink=\"http://www.w3.org/1999/xlink\"\n",
              "width=\"64\" viewBox=\"0 0 500 400\" style=\"font-family: 'Droid Sans', sans-serif;\">\n",
              "    <g style=\"fill:#d9d7fc\">\n",
              "        <path d=\"M100,400H500V357H100Z\" />\n",
              "        <path d=\"M100,300H400V257H100Z\" />\n",
              "        <path d=\"M0,200H400V157H0Z\" />\n",
              "        <path d=\"M100,100H500V57H100Z\" />\n",
              "        <path d=\"M100,350H500V307H100Z\" />\n",
              "        <path d=\"M100,250H400V207H100Z\" />\n",
              "        <path d=\"M0,150H400V107H0Z\" />\n",
              "        <path d=\"M100,50H500V7H100Z\" />\n",
              "    </g>\n",
              "    <g style=\"fill:#1a1366;stroke:#1a1366;\">\n",
              "   <rect x=\"100\" y=\"7\" width=\"400\" height=\"43\">\n",
              "    <animate\n",
              "      attributeName=\"width\"\n",
              "      values=\"0;400;0\"\n",
              "      dur=\"5s\"\n",
              "      repeatCount=\"indefinite\" />\n",
              "      <animate\n",
              "      attributeName=\"x\"\n",
              "      values=\"100;100;500\"\n",
              "      dur=\"5s\"\n",
              "      repeatCount=\"indefinite\" />\n",
              "  </rect>\n",
              "        <rect x=\"0\" y=\"107\" width=\"400\" height=\"43\">\n",
              "    <animate\n",
              "      attributeName=\"width\"\n",
              "      values=\"0;400;0\"\n",
              "      dur=\"3.5s\"\n",
              "      repeatCount=\"indefinite\" />\n",
              "    <animate\n",
              "      attributeName=\"x\"\n",
              "      values=\"0;0;400\"\n",
              "      dur=\"3.5s\"\n",
              "      repeatCount=\"indefinite\" />\n",
              "  </rect>\n",
              "        <rect x=\"100\" y=\"207\" width=\"300\" height=\"43\">\n",
              "    <animate\n",
              "      attributeName=\"width\"\n",
              "      values=\"0;300;0\"\n",
              "      dur=\"3s\"\n",
              "      repeatCount=\"indefinite\" />\n",
              "    <animate\n",
              "      attributeName=\"x\"\n",
              "      values=\"100;100;400\"\n",
              "      dur=\"3s\"\n",
              "      repeatCount=\"indefinite\" />\n",
              "  </rect>\n",
              "        <rect x=\"100\" y=\"307\" width=\"400\" height=\"43\">\n",
              "    <animate\n",
              "      attributeName=\"width\"\n",
              "      values=\"0;400;0\"\n",
              "      dur=\"4s\"\n",
              "      repeatCount=\"indefinite\" />\n",
              "      <animate\n",
              "      attributeName=\"x\"\n",
              "      values=\"100;100;500\"\n",
              "      dur=\"4s\"\n",
              "      repeatCount=\"indefinite\" />\n",
              "  </rect>\n",
              "        <g style=\"fill:transparent;stroke-width:8; stroke-linejoin:round\" rx=\"5\">\n",
              "            <g transform=\"translate(45 50) rotate(-45)\">\n",
              "                <circle r=\"33\" cx=\"0\" cy=\"0\" />\n",
              "                <rect x=\"-8\" y=\"32\" width=\"16\" height=\"30\" />\n",
              "            </g>\n",
              "\n",
              "            <g transform=\"translate(450 152)\">\n",
              "                <polyline points=\"-15,-20 -35,-20 -35,40 25,40 25,20\" />\n",
              "                <rect x=\"-15\" y=\"-40\" width=\"60\" height=\"60\" />\n",
              "            </g>\n",
              "\n",
              "            <g transform=\"translate(50 352)\">\n",
              "                <polygon points=\"-35,-5 0,-40 35,-5\" />\n",
              "                <polygon points=\"-35,10 0,45 35,10\" />\n",
              "            </g>\n",
              "\n",
              "            <g transform=\"translate(75 250)\">\n",
              "                <polyline points=\"-30,30 -60,0 -30,-30\" />\n",
              "                <polyline points=\"0,30 -30,0 0,-30\" />\n",
              "            </g>\n",
              "\n",
              "            <g transform=\"translate(425 250) rotate(180)\">\n",
              "                <polyline points=\"-30,30 -60,0 -30,-30\" />\n",
              "                <polyline points=\"0,30 -30,0 0,-30\" />\n",
              "            </g>\n",
              "        </g>\n",
              "    </g>\n",
              "</svg>\n",
              "</a>\n",
              "Loading ITables v2.3.0 from the internet...\n",
              "(need <a href=https://mwouts.github.io/itables/troubleshooting.html>help</a>?)</td>\n",
              "</tr></tbody>\n",
              "</table>\n",
              "<link href=\"https://www.unpkg.com/dt_for_itables@2.2.0/dt_bundle.css\" rel=\"stylesheet\">\n",
              "<script type=\"module\">\n",
              "    import {DataTable, jQuery as $} from 'https://www.unpkg.com/dt_for_itables@2.2.0/dt_bundle.js';\n",
              "\n",
              "    document.querySelectorAll(\"#itables_d81718d4_3567_4ac4_8b63_209e1be92144:not(.dataTable)\").forEach(table => {\n",
              "        if (!(table instanceof HTMLTableElement))\n",
              "            return;\n",
              "\n",
              "        // Define the table data\n",
              "        const data = [[6212.9518563463835, -910.5789209153014, -564.1508633126775, 2112.5240242471905, 5555.992118782364, -2519.602174459722, 4667.704917674307, 557.0190562545982, 126.65474978417215, -3335.7756479290624, 2256.0414437666204, -220.796970255192, -1233.2461899367458, -396.18798025362224, 732.8201409577197, 123.52975133853887, 296.32933922950485, 60.33391188323541, 797.4101012453699, 348.0332076241959, -1103.292067698924, 47.003494908552874, -37.33901202684779, 349.5940533637872, -224.78389902398936, 4.128981469311336, -83.58776923944423, -109.2917161503007, -172.6013300444656, 513.6198743676798, \"Federico\"], [-4079.6214703234523, 4848.1566763586015, 383.27618996975303, 2031.9291160481116, -2153.9752961015456, 256.294484402217, 2045.8943943187885, -780.058123483096, 741.4561407486153, 3332.0657317861005, 1741.511197604649, -11.664443314934363, -2252.897002890485, 95.40801065279176, 198.37889440945892, -318.9685003681172, 1265.5450098205379, 820.7157140049815, 1926.6515789989876, 619.9663584889114, -81.15896946712148, -1146.977458412116, -965.3509982851575, -288.98512824973324, -206.52727286629178, 1537.5144218132637, 1371.700236023774, -417.4774730065359, 401.2672229550199, -709.1535488301265, \"Jorgelina\"], [5845.103688535594, 3592.9298431773923, -2714.944025887565, 2485.583608227715, 1107.8561962751899, -1274.3290125511908, -923.1494478758052, -789.6928439745999, -1170.0170075928443, 1881.1262466933954, -69.94363660614384, 526.1394798663055, -358.6127793242138, -23.21632842192061, 321.6800859066162, -1851.1876590364463, 179.24272829493302, -259.5057837509021, -300.9411700445362, 708.9007349703597, 320.60381709076177, -629.9102544556354, -1101.8042200489617, -17.0311630697542, -170.79243480152354, -711.9006573184881, 568.0074855415154, -691.2601982071164, -664.8030396488753, 611.7186540672702, \"NoeliaM\"], [-6578.487449264594, 684.2655720483436, -2608.610079660961, -434.6496570157958, -70.49462614393809, -373.7446662541491, -607.5916854127781, -3418.1996004062635, -546.4130825687935, -676.7211517433433, 1626.8338174553169, -1824.622134288353, 747.22312260231, 2087.524444902315, -68.03488994022, 2779.6828977322134, -817.9574906463021, -945.5249044737271, -958.0108679755473, -1515.2197499715132, 419.83642185274135, -1487.6262015688694, 1255.5791317559422, 290.2816464597124, -868.8475548875055, -1072.8988550437914, 363.8318628055278, -2015.475430683051, -497.3081801640559, -214.20392336895705, \"Alejandro\"], [-4797.9752140098035, -3514.8598966774175, -2322.7077813756573, 502.63860289152205, -1054.2753226608727, -1180.249438172017, -998.1023209107701, 1386.2824228000197, 968.2456390781402, 1475.5207431993724, 2120.753793846347, -154.19328946861998, 659.7630642197119, 452.84672478731545, 64.1937582241215, 747.3171753011196, -1021.6363720674233, 1222.2779178073902, -166.49462651360048, 848.8765986240168, 1389.364617389296, -926.6301323654301, 1232.376029952739, -94.73442629140665, -98.99951901292172, 478.2004243539105, 589.8045986389851, 145.39142425454847, 507.2235282162452, 233.96700870872567, \"Alejandro\"]];\n",
              "\n",
              "        // Define the dt_args\n",
              "        let dt_args = {\"layout\": {\"topStart\": null, \"topEnd\": null, \"bottomStart\": null, \"bottomEnd\": null}, \"order\": [], \"warn_on_selected_rows_not_rendered\": true};\n",
              "        dt_args[\"data\"] = data;\n",
              "\n",
              "        \n",
              "        new DataTable(table, dt_args);\n",
              "    });\n",
              "</script>\n"
            ],
            "text/plain": [
              "shape: (5, 31)\n",
              "┌───────────┬───────────┬───────────┬───────────┬───┬───────────┬───────────┬───────────┬──────────┐\n",
              "│ x1        ┆ x2        ┆ x3        ┆ x4        ┆ … ┆ x28       ┆ x29       ┆ x30       ┆ y        │\n",
              "│ ---       ┆ ---       ┆ ---       ┆ ---       ┆   ┆ ---       ┆ ---       ┆ ---       ┆ ---      │\n",
              "│ f64       ┆ f64       ┆ f64       ┆ f64       ┆   ┆ f64       ┆ f64       ┆ f64       ┆ str      │\n",
              "╞═══════════╪═══════════╪═══════════╪═══════════╪═══╪═══════════╪═══════════╪═══════════╪══════════╡\n",
              "│ 6212.9518 ┆ -910.5789 ┆ -564.1508 ┆ 2112.5240 ┆ … ┆ -109.2917 ┆ -172.6013 ┆ 513.61987 ┆ Federico │\n",
              "│ 56        ┆ 21        ┆ 63        ┆ 24        ┆   ┆ 16        ┆ 3         ┆ 4         ┆          │\n",
              "│ -4079.621 ┆ 4848.1566 ┆ 383.27619 ┆ 2031.9291 ┆ … ┆ -417.4774 ┆ 401.26722 ┆ -709.1535 ┆ Jorgelin │\n",
              "│ 47        ┆ 76        ┆           ┆ 16        ┆   ┆ 73        ┆ 3         ┆ 49        ┆ a        │\n",
              "│ 5845.1036 ┆ 3592.9298 ┆ -2714.944 ┆ 2485.5836 ┆ … ┆ -691.2601 ┆ -664.8030 ┆ 611.71865 ┆ NoeliaM  │\n",
              "│ 89        ┆ 43        ┆ 026       ┆ 08        ┆   ┆ 98        ┆ 4         ┆ 4         ┆          │\n",
              "│ -6578.487 ┆ 684.26557 ┆ -2608.610 ┆ -434.6496 ┆ … ┆ -2015.475 ┆ -497.3081 ┆ -214.2039 ┆ Alejandr │\n",
              "│ 449       ┆ 2         ┆ 08        ┆ 57        ┆   ┆ 431       ┆ 8         ┆ 23        ┆ o        │\n",
              "│ -4797.975 ┆ -3514.859 ┆ -2322.707 ┆ 502.63860 ┆ … ┆ 145.39142 ┆ 507.22352 ┆ 233.96700 ┆ Alejandr │\n",
              "│ 214       ┆ 897       ┆ 781       ┆ 3         ┆   ┆ 4         ┆ 8         ┆ 9         ┆ o        │\n",
              "└───────────┴───────────┴───────────┴───────────┴───┴───────────┴───────────┴───────────┴──────────┘"
            ]
          },
          "execution_count": 15,
          "metadata": {},
          "output_type": "execute_result"
        }
      ],
      "source": [
        "# Generar nombres de componentes: x1, x2, ..., xN\n",
        "column_names = [f\"x{i+1}\" for i in range(X_train_iso.shape[1])]\n",
        "df_X_train = pl.DataFrame(X_train_iso, schema=column_names)\n",
        "\n",
        "df_train = df_X_train.with_columns(pl.Series(\"y\", y_train))\n",
        "\n",
        "# Verificar\n",
        "df_train.head()\n"
      ]
    },
    {
      "cell_type": "markdown",
      "metadata": {
        "id": "Mgsj2MfutmAe"
      },
      "source": [
        "## **Generar dataframe test**"
      ]
    },
    {
      "cell_type": "code",
      "execution_count": null,
      "metadata": {
        "colab": {
          "base_uri": "https://localhost:8080/",
          "height": 263
        },
        "id": "MmNZnAx3uB_3",
        "outputId": "fca04359-8079-47df-a856-f7fbe169ddbe"
      },
      "outputs": [
        {
          "data": {
            "text/html": [
              "<table id=\"itables_68c2c8d8_a406_4497_b67d_dd379cd73e9b\" class=\"display nowrap\" data-quarto-disable-processing=\"true\" style=\"table-layout:auto;width:auto;margin:auto;caption-side:bottom\">\n",
              "<thead>\n",
              "    <tr style=\"text-align: right;\">\n",
              "      \n",
              "      <th>x1</th>\n",
              "      <th>x2</th>\n",
              "      <th>x3</th>\n",
              "      <th>x4</th>\n",
              "      <th>x5</th>\n",
              "      <th>x6</th>\n",
              "      <th>x7</th>\n",
              "      <th>x8</th>\n",
              "      <th>x9</th>\n",
              "      <th>x10</th>\n",
              "      <th>x11</th>\n",
              "      <th>x12</th>\n",
              "      <th>x13</th>\n",
              "      <th>x14</th>\n",
              "      <th>x15</th>\n",
              "      <th>x16</th>\n",
              "      <th>x17</th>\n",
              "      <th>x18</th>\n",
              "      <th>x19</th>\n",
              "      <th>x20</th>\n",
              "      <th>x21</th>\n",
              "      <th>x22</th>\n",
              "      <th>x23</th>\n",
              "      <th>x24</th>\n",
              "      <th>x25</th>\n",
              "      <th>x26</th>\n",
              "      <th>x27</th>\n",
              "      <th>x28</th>\n",
              "      <th>x29</th>\n",
              "      <th>x30</th>\n",
              "      <th>y</th>\n",
              "    </tr>\n",
              "  </thead><tbody><tr>\n",
              "<td style=\"vertical-align:middle; text-align:left\">\n",
              "<a href=https://mwouts.github.io/itables/><svg class=\"main-svg\" xmlns=\"http://www.w3.org/2000/svg\" xmlns:xlink=\"http://www.w3.org/1999/xlink\"\n",
              "width=\"64\" viewBox=\"0 0 500 400\" style=\"font-family: 'Droid Sans', sans-serif;\">\n",
              "    <g style=\"fill:#d9d7fc\">\n",
              "        <path d=\"M100,400H500V357H100Z\" />\n",
              "        <path d=\"M100,300H400V257H100Z\" />\n",
              "        <path d=\"M0,200H400V157H0Z\" />\n",
              "        <path d=\"M100,100H500V57H100Z\" />\n",
              "        <path d=\"M100,350H500V307H100Z\" />\n",
              "        <path d=\"M100,250H400V207H100Z\" />\n",
              "        <path d=\"M0,150H400V107H0Z\" />\n",
              "        <path d=\"M100,50H500V7H100Z\" />\n",
              "    </g>\n",
              "    <g style=\"fill:#1a1366;stroke:#1a1366;\">\n",
              "   <rect x=\"100\" y=\"7\" width=\"400\" height=\"43\">\n",
              "    <animate\n",
              "      attributeName=\"width\"\n",
              "      values=\"0;400;0\"\n",
              "      dur=\"5s\"\n",
              "      repeatCount=\"indefinite\" />\n",
              "      <animate\n",
              "      attributeName=\"x\"\n",
              "      values=\"100;100;500\"\n",
              "      dur=\"5s\"\n",
              "      repeatCount=\"indefinite\" />\n",
              "  </rect>\n",
              "        <rect x=\"0\" y=\"107\" width=\"400\" height=\"43\">\n",
              "    <animate\n",
              "      attributeName=\"width\"\n",
              "      values=\"0;400;0\"\n",
              "      dur=\"3.5s\"\n",
              "      repeatCount=\"indefinite\" />\n",
              "    <animate\n",
              "      attributeName=\"x\"\n",
              "      values=\"0;0;400\"\n",
              "      dur=\"3.5s\"\n",
              "      repeatCount=\"indefinite\" />\n",
              "  </rect>\n",
              "        <rect x=\"100\" y=\"207\" width=\"300\" height=\"43\">\n",
              "    <animate\n",
              "      attributeName=\"width\"\n",
              "      values=\"0;300;0\"\n",
              "      dur=\"3s\"\n",
              "      repeatCount=\"indefinite\" />\n",
              "    <animate\n",
              "      attributeName=\"x\"\n",
              "      values=\"100;100;400\"\n",
              "      dur=\"3s\"\n",
              "      repeatCount=\"indefinite\" />\n",
              "  </rect>\n",
              "        <rect x=\"100\" y=\"307\" width=\"400\" height=\"43\">\n",
              "    <animate\n",
              "      attributeName=\"width\"\n",
              "      values=\"0;400;0\"\n",
              "      dur=\"4s\"\n",
              "      repeatCount=\"indefinite\" />\n",
              "      <animate\n",
              "      attributeName=\"x\"\n",
              "      values=\"100;100;500\"\n",
              "      dur=\"4s\"\n",
              "      repeatCount=\"indefinite\" />\n",
              "  </rect>\n",
              "        <g style=\"fill:transparent;stroke-width:8; stroke-linejoin:round\" rx=\"5\">\n",
              "            <g transform=\"translate(45 50) rotate(-45)\">\n",
              "                <circle r=\"33\" cx=\"0\" cy=\"0\" />\n",
              "                <rect x=\"-8\" y=\"32\" width=\"16\" height=\"30\" />\n",
              "            </g>\n",
              "\n",
              "            <g transform=\"translate(450 152)\">\n",
              "                <polyline points=\"-15,-20 -35,-20 -35,40 25,40 25,20\" />\n",
              "                <rect x=\"-15\" y=\"-40\" width=\"60\" height=\"60\" />\n",
              "            </g>\n",
              "\n",
              "            <g transform=\"translate(50 352)\">\n",
              "                <polygon points=\"-35,-5 0,-40 35,-5\" />\n",
              "                <polygon points=\"-35,10 0,45 35,10\" />\n",
              "            </g>\n",
              "\n",
              "            <g transform=\"translate(75 250)\">\n",
              "                <polyline points=\"-30,30 -60,0 -30,-30\" />\n",
              "                <polyline points=\"0,30 -30,0 0,-30\" />\n",
              "            </g>\n",
              "\n",
              "            <g transform=\"translate(425 250) rotate(180)\">\n",
              "                <polyline points=\"-30,30 -60,0 -30,-30\" />\n",
              "                <polyline points=\"0,30 -30,0 0,-30\" />\n",
              "            </g>\n",
              "        </g>\n",
              "    </g>\n",
              "</svg>\n",
              "</a>\n",
              "Loading ITables v2.3.0 from the internet...\n",
              "(need <a href=https://mwouts.github.io/itables/troubleshooting.html>help</a>?)</td>\n",
              "</tr></tbody>\n",
              "</table>\n",
              "<link href=\"https://www.unpkg.com/dt_for_itables@2.2.0/dt_bundle.css\" rel=\"stylesheet\">\n",
              "<script type=\"module\">\n",
              "    import {DataTable, jQuery as $} from 'https://www.unpkg.com/dt_for_itables@2.2.0/dt_bundle.js';\n",
              "\n",
              "    document.querySelectorAll(\"#itables_68c2c8d8_a406_4497_b67d_dd379cd73e9b:not(.dataTable)\").forEach(table => {\n",
              "        if (!(table instanceof HTMLTableElement))\n",
              "            return;\n",
              "\n",
              "        // Define the table data\n",
              "        const data = [[-1254.4453551468007, 8896.774574811372, 1932.3061722709585, 3509.657961671892, -2279.171635954582, 1484.580108294046, 141.30865180273395, 3667.9002871194143, -221.24931317486846, -864.801293056315, 687.0743777182504, 1577.601427656477, 354.18995286226067, -886.7245951018958, -64.95287676801013, 569.7196756329085, 547.2639287754771, 297.3287580285457, 914.4672104394532, -1073.3275502647155, -514.3757155893818, 688.9215010384928, -405.8227865273293, -279.9903522657371, -357.095652079409, 185.14134285882915, 943.1786653030767, -651.9974099034516, 458.1906632542317, 258.5003489563387, \"Natalia\"], [-6747.182883403113, 1670.211299122197, -5015.908172475902, -1892.4637124434535, -4089.5550811978756, 532.5356557624274, -1042.865020076257, -3480.186055199792, 903.5358256047317, -2691.425468063715, 2070.182654967396, 8.448673960933888, 861.8882485221817, 1070.9906389881348, 202.89685885041143, 740.2263950015429, -260.8345199977115, 447.0391333813053, -2937.0569344804694, -1818.7309803996966, -1443.9949661964347, -353.83578713499924, 2625.0958699668454, 344.6634448761184, 745.3115115454073, 297.8932086964719, -449.06019188192704, 635.1310383153192, 1055.0596810515362, -1589.7452523431307, \"Alejandro\"], [81.57397515155114, -77.22719719930272, 1270.8136299728067, -27.81199131616276, 3694.217710080683, -390.68419015314504, 829.0251028411834, 151.13591170337187, -149.0810743565433, 842.9084555140397, -335.0754148319236, -1447.552521899769, 664.5377632399762, -421.77830537859245, -725.2565667054414, 1260.7941612840693, 462.73247917599923, -173.88824600164, -51.97291203712962, 307.353085394461, -296.8576920289285, -452.92883777338915, -238.85546071661793, -33.861483460132845, 1018.2660200826288, 897.8420531605184, 473.9189251239189, -118.34755264240056, 153.4772406091073, 804.4375971348705, \"Jose\"], [-931.703622266319, -4976.348544010362, -1372.818664964078, 2228.3019464144345, -1948.3631911121386, -2961.1618297014297, -2464.558418445926, 1423.4308036734471, -1683.3586359042092, -139.07401480144597, -286.5273743494544, 1790.9074309135876, 31.79613876801278, 217.77313325318465, 991.4211744445091, 1404.6955144886279, -47.99896521485607, -418.4443564871965, 769.4200302851568, 975.968473359225, -1564.7129335782834, 169.60543020122935, -588.3327689676416, -216.32965080918405, 215.80911695091166, 610.5612048198979, -305.8956880983526, -690.579489885016, 434.8005732730459, -372.1011986821014, \"Jorgelina\"], [-2345.371022185896, -3394.0897840532457, -1231.6490585364697, 446.90669259764826, 522.96875387052, 391.903509355267, -1635.1185642817968, 2863.4921392269443, -228.33803995906277, -465.27576933202704, 526.8186645546011, 430.6804763282734, 133.53661016557737, -47.02247872903524, 412.5618027612628, 145.4324140782196, 12.023541807096194, 260.6430499030059, 156.98259016865245, -866.8513834419712, 1065.7021728964235, -874.3251218445461, -256.0038538074588, -228.06881835988173, 300.0076704182147, 707.9367555355586, 609.534553262353, 656.4105676389847, 668.2731338674116, 628.8631287962589, \"Gustavo\"]];\n",
              "\n",
              "        // Define the dt_args\n",
              "        let dt_args = {\"layout\": {\"topStart\": null, \"topEnd\": null, \"bottomStart\": null, \"bottomEnd\": null}, \"order\": [], \"warn_on_selected_rows_not_rendered\": true};\n",
              "        dt_args[\"data\"] = data;\n",
              "\n",
              "        \n",
              "        new DataTable(table, dt_args);\n",
              "    });\n",
              "</script>\n"
            ],
            "text/plain": [
              "shape: (5, 31)\n",
              "┌───────────┬───────────┬───────────┬───────────┬───┬───────────┬───────────┬───────────┬──────────┐\n",
              "│ x1        ┆ x2        ┆ x3        ┆ x4        ┆ … ┆ x28       ┆ x29       ┆ x30       ┆ y        │\n",
              "│ ---       ┆ ---       ┆ ---       ┆ ---       ┆   ┆ ---       ┆ ---       ┆ ---       ┆ ---      │\n",
              "│ f64       ┆ f64       ┆ f64       ┆ f64       ┆   ┆ f64       ┆ f64       ┆ f64       ┆ str      │\n",
              "╞═══════════╪═══════════╪═══════════╪═══════════╪═══╪═══════════╪═══════════╪═══════════╪══════════╡\n",
              "│ -1254.445 ┆ 8896.7745 ┆ 1932.3061 ┆ 3509.6579 ┆ … ┆ -651.9974 ┆ 458.19066 ┆ 258.50034 ┆ Natalia  │\n",
              "│ 355       ┆ 75        ┆ 72        ┆ 62        ┆   ┆ 1         ┆ 3         ┆ 9         ┆          │\n",
              "│ -6747.182 ┆ 1670.2112 ┆ -5015.908 ┆ -1892.463 ┆ … ┆ 635.13103 ┆ 1055.0596 ┆ -1589.745 ┆ Alejandr │\n",
              "│ 883       ┆ 99        ┆ 172       ┆ 712       ┆   ┆ 8         ┆ 81        ┆ 252       ┆ o        │\n",
              "│ 81.573975 ┆ -77.22719 ┆ 1270.8136 ┆ -27.81199 ┆ … ┆ -118.3475 ┆ 153.47724 ┆ 804.43759 ┆ Jose     │\n",
              "│           ┆ 7         ┆ 3         ┆ 1         ┆   ┆ 53        ┆ 1         ┆ 7         ┆          │\n",
              "│ -931.7036 ┆ -4976.348 ┆ -1372.818 ┆ 2228.3019 ┆ … ┆ -690.5794 ┆ 434.80057 ┆ -372.1011 ┆ Jorgelin │\n",
              "│ 22        ┆ 544       ┆ 665       ┆ 46        ┆   ┆ 9         ┆ 3         ┆ 99        ┆ a        │\n",
              "│ -2345.371 ┆ -3394.089 ┆ -1231.649 ┆ 446.90669 ┆ … ┆ 656.41056 ┆ 668.27313 ┆ 628.86312 ┆ Gustavo  │\n",
              "│ 022       ┆ 784       ┆ 059       ┆ 3         ┆   ┆ 8         ┆ 4         ┆ 9         ┆          │\n",
              "└───────────┴───────────┴───────────┴───────────┴───┴───────────┴───────────┴───────────┴──────────┘"
            ]
          },
          "execution_count": 16,
          "metadata": {},
          "output_type": "execute_result"
        }
      ],
      "source": [
        "# Generar nombres de componentes: x1, x2, ..., xN\n",
        "column_names = [f\"x{i+1}\" for i in range(X_test_iso.shape[1])]\n",
        "df_X_test = pl.DataFrame(X_test_iso, schema=column_names)\n",
        "\n",
        "df_test = df_X_test.with_columns(pl.Series(\"y\", y_test))\n",
        "\n",
        "# Verificar\n",
        "df_test.head()"
      ]
    },
    {
      "cell_type": "code",
      "execution_count": null,
      "metadata": {
        "colab": {
          "base_uri": "https://localhost:8080/"
        },
        "id": "CW2CB0f6TuUK",
        "outputId": "862f0641-2f7e-47a6-ba58-1685635bff23"
      },
      "outputs": [
        {
          "name": "stdout",
          "output_type": "stream",
          "text": [
            "Modelo ISOMAP y datos transformados guardados con éxito.\n",
            "Modelo ISOMAP y datos transformados guardados con éxito.\n"
          ]
        }
      ],
      "source": [
        "# Guardamos el dataframe de train .pkl\n",
        "with open('/content/drive/MyDrive/DMA_Eigenfaces/isomap_train.pkl', 'wb') as f:\n",
        "    pickle.dump(df_train, f)\n",
        "\n",
        "# Guardamos el dataframe de test .pkl\n",
        "with open('/content/drive/MyDrive/DMA_Eigenfaces/isomap_test.pkl', 'wb') as f:\n",
        "    pickle.dump(df_test, f)\n"
      ]
    },
    {
      "cell_type": "markdown",
      "metadata": {
        "id": "dGzyhbjntlyL"
      },
      "source": []
    }
  ],
  "metadata": {
    "colab": {
      "collapsed_sections": [
        "bhkiRkl2et9U",
        "08nDcTQbS1o1"
      ],
      "gpuType": "T4",
      "provenance": []
    },
    "kernelspec": {
      "display_name": "Python 3",
      "name": "python3"
    },
    "language_info": {
      "codemirror_mode": {
        "name": "ipython",
        "version": 3
      },
      "file_extension": ".py",
      "mimetype": "text/x-python",
      "name": "python",
      "nbconvert_exporter": "python",
      "pygments_lexer": "ipython3",
      "version": "3.13.3"
    }
  },
  "nbformat": 4,
  "nbformat_minor": 0
}
